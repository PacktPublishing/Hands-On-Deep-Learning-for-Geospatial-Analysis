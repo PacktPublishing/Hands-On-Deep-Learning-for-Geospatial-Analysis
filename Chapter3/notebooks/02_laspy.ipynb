{
 "cells": [
  {
   "cell_type": "markdown",
   "metadata": {},
   "source": [
    "#"
   ]
  },
  {
   "cell_type": "code",
   "execution_count": 3,
   "metadata": {},
   "outputs": [],
   "source": [
    "from laspy.file import File\n",
    "import numpy as np"
   ]
  },
  {
   "cell_type": "code",
   "execution_count": 26,
   "metadata": {},
   "outputs": [
    {
     "data": {
      "text/plain": [
       "array([[[6.3701224e+05, 8.4902831e+05, 4.3166000e+02],\n",
       "        [6.3689633e+05, 8.4908770e+05, 4.4639000e+02],\n",
       "        [6.3678474e+05, 8.4910666e+05, 4.2671000e+02],\n",
       "        ...,\n",
       "        [6.3750167e+05, 8.5337575e+05, 4.1752000e+02],\n",
       "        [6.3743327e+05, 8.5323084e+05, 4.2408000e+02],\n",
       "        [6.3734285e+05, 8.5324032e+05, 4.2392000e+02]]])"
      ]
     },
     "execution_count": 26,
     "metadata": {},
     "output_type": "execute_result"
    }
   ],
   "source": [
    "file = File('../data/simple.las', mode='r')\n",
    "coords = np.dstack((file.x, file.y, file.z))\n",
    "file.close()\n",
    "\n",
    "\n",
    "coords"
   ]
  }
 ],
 "metadata": {
  "kernelspec": {
   "display_name": "GeoPython_3.6",
   "language": "python",
   "name": "geopython_3.6"
  },
  "language_info": {
   "codemirror_mode": {
    "name": "ipython",
    "version": 3
   },
   "file_extension": ".py",
   "mimetype": "text/x-python",
   "name": "python",
   "nbconvert_exporter": "python",
   "pygments_lexer": "ipython3",
   "version": "3.6.7"
  }
 },
 "nbformat": 4,
 "nbformat_minor": 2
}
