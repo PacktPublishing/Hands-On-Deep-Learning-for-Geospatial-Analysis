{
 "cells": [
  {
   "cell_type": "markdown",
   "metadata": {},
   "source": [
    "# Chapter 7"
   ]
  },
  {
   "cell_type": "markdown",
   "metadata": {},
   "source": [
    "## Raster Data"
   ]
  },
  {
   "cell_type": "code",
   "execution_count": null,
   "metadata": {},
   "outputs": [],
   "source": [
    "# Downloading the data, if not yet downloaded\n",
    "\n",
    "import wget\n",
    "import os\n",
    "\n",
    "if not os.path.exists(\"data.zip\"):\n",
    "    url = 'http://data.geo.admin.ch/ch.swisstopo.images-landsat25/data.zip'\n",
    "    wget.download(url,bar=None)\n",
    "else:\n",
    "    print(\"ok. data already downloaded.\")"
   ]
  },
  {
   "cell_type": "code",
   "execution_count": null,
   "metadata": {},
   "outputs": [],
   "source": [
    "# unzip the data if not yet unzipped\n",
    "\n",
    "import zipfile\n",
    "\n",
    "if not os.path.exists(\"landsat\"):\n",
    "    zip_ref = zipfile.ZipFile(\"data.zip\", 'r')\n",
    "    zip_ref.extractall(\"landsat\")\n",
    "    zip_ref.close()\n",
    "else:\n",
    "    print(\"ok. data already unzipped.\")"
   ]
  },
  {
   "cell_type": "code",
   "execution_count": null,
   "metadata": {},
   "outputs": [],
   "source": [
    "# Now we have the tif file \"landsat/LandsatMos25.tif\" extracted\n",
    "\n",
    "import rasterio\n",
    "\n",
    "ds = rasterio.open('landsat/LandsatMos25.tif', 'r')"
   ]
  },
  {
   "cell_type": "code",
   "execution_count": null,
   "metadata": {},
   "outputs": [],
   "source": [
    "print(ds.name)\n",
    "print(ds.count) # number of raster bands, in our case 3 for r,g,b\n",
    "print(ds.width, ds.height)"
   ]
  },
  {
   "cell_type": "code",
   "execution_count": null,
   "metadata": {},
   "outputs": [],
   "source": [
    "ds.dtypes"
   ]
  },
  {
   "cell_type": "code",
   "execution_count": null,
   "metadata": {},
   "outputs": [],
   "source": [
    "print(ds.crs)"
   ]
  },
  {
   "cell_type": "code",
   "execution_count": null,
   "metadata": {},
   "outputs": [],
   "source": [
    "print(ds.bounds)"
   ]
  },
  {
   "cell_type": "code",
   "execution_count": null,
   "metadata": {},
   "outputs": [],
   "source": [
    "print(ds.transform)  # affine transformation pixel to crs+"
   ]
  },
  {
   "cell_type": "code",
   "execution_count": null,
   "metadata": {},
   "outputs": [],
   "source": [
    "from rasterio.crs import CRS\n",
    "\n",
    "ds = rasterio.open('landsat/LandsatMos25.tif', 'r+')\n",
    "crs = CRS.from_epsg(21781)\n",
    "ds.crs = crs\n",
    "print(ds.crs)"
   ]
  },
  {
   "cell_type": "code",
   "execution_count": null,
   "metadata": {},
   "outputs": [],
   "source": []
  },
  {
   "cell_type": "code",
   "execution_count": null,
   "metadata": {},
   "outputs": [],
   "source": [
    "ds.transform * (0, 0)    # Pixel to CRS"
   ]
  },
  {
   "cell_type": "code",
   "execution_count": null,
   "metadata": {},
   "outputs": [],
   "source": [
    "~ds.transform # inverse affine transformation\n",
    "~ds.transform * (0,0) # CRS to Pixel\n",
    "px, py = ~ds.transform * (612073, 267991)\n",
    "print(px,py)"
   ]
  },
  {
   "cell_type": "code",
   "execution_count": 9,
   "metadata": {},
   "outputs": [],
   "source": [
    "import matplotlib.pyplot as plt\n",
    "import numpy as np\n",
    "\n",
    "%matplotlib inline"
   ]
  },
  {
   "cell_type": "code",
   "execution_count": null,
   "metadata": {},
   "outputs": [],
   "source": [
    "r = ds.read(1)\n",
    "g = ds.read(2)\n",
    "b = ds.read(3)"
   ]
  },
  {
   "cell_type": "code",
   "execution_count": null,
   "metadata": {},
   "outputs": [],
   "source": [
    "rgb = np.dstack((r,g,b))  # stack r,g,b so we can display it..."
   ]
  },
  {
   "cell_type": "code",
   "execution_count": null,
   "metadata": {},
   "outputs": [],
   "source": [
    "fig, ax = plt.subplots(figsize=(15,9))\n",
    "ax.imshow(rgb, interpolation='bilinear')\n",
    "ax.plot(px,py, 'ro'); "
   ]
  },
  {
   "cell_type": "markdown",
   "metadata": {},
   "source": [
    "## Vector Data"
   ]
  },
  {
   "cell_type": "markdown",
   "metadata": {},
   "source": [
    "We're downloading earthquake data from USGS:\n",
    "https://earthquake.usgs.gov/earthquakes/feed/v1.0/geojson.php\n",
    "\n",
    "This data is updated every minute\n",
    "\n",
    "* 2.5_week.geojson: All earthquakes > 2.5 from the last week\n",
    "* 2.5_month.geojson: All earthquakes with a magnitude > 2.5 from the last month\n",
    "\n",
    "We're looking at the data from last week"
   ]
  },
  {
   "cell_type": "code",
   "execution_count": 1,
   "metadata": {},
   "outputs": [],
   "source": [
    "import requests\n",
    "\n",
    "url = \"https://earthquake.usgs.gov/earthquakes/feed/v1.0/summary/2.5_week.geojson\"\n",
    "#url = \"https://earthquake.usgs.gov/earthquakes/feed/v1.0/summary/2.5_month.geojson\"\n",
    "\n",
    "data = requests.get(url)\n",
    "file = open(\"earthquakes.geojson\",\"wb\")\n",
    "file.write(data.content)\n",
    "file.close()"
   ]
  },
  {
   "cell_type": "markdown",
   "metadata": {},
   "source": [
    "Now let's import geopandas"
   ]
  },
  {
   "cell_type": "code",
   "execution_count": 2,
   "metadata": {},
   "outputs": [
    {
     "data": {
      "text/html": [
       "<div>\n",
       "<style scoped>\n",
       "    .dataframe tbody tr th:only-of-type {\n",
       "        vertical-align: middle;\n",
       "    }\n",
       "\n",
       "    .dataframe tbody tr th {\n",
       "        vertical-align: top;\n",
       "    }\n",
       "\n",
       "    .dataframe thead th {\n",
       "        text-align: right;\n",
       "    }\n",
       "</style>\n",
       "<table border=\"1\" class=\"dataframe\">\n",
       "  <thead>\n",
       "    <tr style=\"text-align: right;\">\n",
       "      <th></th>\n",
       "      <th>id</th>\n",
       "      <th>mag</th>\n",
       "      <th>place</th>\n",
       "      <th>time</th>\n",
       "      <th>updated</th>\n",
       "      <th>tz</th>\n",
       "      <th>url</th>\n",
       "      <th>detail</th>\n",
       "      <th>felt</th>\n",
       "      <th>cdi</th>\n",
       "      <th>...</th>\n",
       "      <th>sources</th>\n",
       "      <th>types</th>\n",
       "      <th>nst</th>\n",
       "      <th>dmin</th>\n",
       "      <th>rms</th>\n",
       "      <th>gap</th>\n",
       "      <th>magType</th>\n",
       "      <th>type</th>\n",
       "      <th>title</th>\n",
       "      <th>geometry</th>\n",
       "    </tr>\n",
       "  </thead>\n",
       "  <tbody>\n",
       "    <tr>\n",
       "      <th>0</th>\n",
       "      <td>ak01974f078a</td>\n",
       "      <td>3.00</td>\n",
       "      <td>10km NNW of Anchorage, Alaska</td>\n",
       "      <td>1559624088074</td>\n",
       "      <td>1559629426013</td>\n",
       "      <td>-540</td>\n",
       "      <td>https://earthquake.usgs.gov/earthquakes/eventp...</td>\n",
       "      <td>https://earthquake.usgs.gov/earthquakes/feed/v...</td>\n",
       "      <td>1.0</td>\n",
       "      <td>2.0</td>\n",
       "      <td>...</td>\n",
       "      <td>,ak,</td>\n",
       "      <td>,dyfi,geoserve,origin,shakemap,</td>\n",
       "      <td>NaN</td>\n",
       "      <td>NaN</td>\n",
       "      <td>1.51</td>\n",
       "      <td>NaN</td>\n",
       "      <td>ml</td>\n",
       "      <td>earthquake</td>\n",
       "      <td>M 3.0 - 10km NNW of Anchorage, Alaska</td>\n",
       "      <td>POINT Z (-149.9612 61.3074 40.8)</td>\n",
       "    </tr>\n",
       "    <tr>\n",
       "      <th>1</th>\n",
       "      <td>hv70981096</td>\n",
       "      <td>2.96</td>\n",
       "      <td>3km N of Kailua-Kona, Hawaii</td>\n",
       "      <td>1559623704160</td>\n",
       "      <td>1559629478703</td>\n",
       "      <td>-600</td>\n",
       "      <td>https://earthquake.usgs.gov/earthquakes/eventp...</td>\n",
       "      <td>https://earthquake.usgs.gov/earthquakes/feed/v...</td>\n",
       "      <td>2.0</td>\n",
       "      <td>2.2</td>\n",
       "      <td>...</td>\n",
       "      <td>,hv,</td>\n",
       "      <td>,dyfi,geoserve,origin,phase-data,</td>\n",
       "      <td>57.0</td>\n",
       "      <td>0.15130</td>\n",
       "      <td>0.36</td>\n",
       "      <td>256.0</td>\n",
       "      <td>ml</td>\n",
       "      <td>earthquake</td>\n",
       "      <td>M 3.0 - 3km N of Kailua-Kona, Hawaii</td>\n",
       "      <td>POINT Z (-155.9954987 19.6700001 108.7)</td>\n",
       "    </tr>\n",
       "    <tr>\n",
       "      <th>2</th>\n",
       "      <td>us70003v3j</td>\n",
       "      <td>6.30</td>\n",
       "      <td>Izu Islands, Japan region</td>\n",
       "      <td>1559623157501</td>\n",
       "      <td>1559629615368</td>\n",
       "      <td>540</td>\n",
       "      <td>https://earthquake.usgs.gov/earthquakes/eventp...</td>\n",
       "      <td>https://earthquake.usgs.gov/earthquakes/feed/v...</td>\n",
       "      <td>2.0</td>\n",
       "      <td>3.1</td>\n",
       "      <td>...</td>\n",
       "      <td>,us,</td>\n",
       "      <td>,dyfi,geoserve,losspager,origin,phase-data,sha...</td>\n",
       "      <td>NaN</td>\n",
       "      <td>3.21900</td>\n",
       "      <td>0.80</td>\n",
       "      <td>21.0</td>\n",
       "      <td>mww</td>\n",
       "      <td>earthquake</td>\n",
       "      <td>M 6.3 - Izu Islands, Japan region</td>\n",
       "      <td>POINT Z (139.2932 29.0623 430.3)</td>\n",
       "    </tr>\n",
       "    <tr>\n",
       "      <th>3</th>\n",
       "      <td>ci38621152</td>\n",
       "      <td>3.33</td>\n",
       "      <td>5km NW of Cabazon, CA</td>\n",
       "      <td>1559622842590</td>\n",
       "      <td>1559629697341</td>\n",
       "      <td>-480</td>\n",
       "      <td>https://earthquake.usgs.gov/earthquakes/eventp...</td>\n",
       "      <td>https://earthquake.usgs.gov/earthquakes/feed/v...</td>\n",
       "      <td>310.0</td>\n",
       "      <td>3.4</td>\n",
       "      <td>...</td>\n",
       "      <td>,ci,</td>\n",
       "      <td>,dyfi,focal-mechanism,geoserve,nearby-cities,o...</td>\n",
       "      <td>92.0</td>\n",
       "      <td>0.05312</td>\n",
       "      <td>0.18</td>\n",
       "      <td>33.0</td>\n",
       "      <td>ml</td>\n",
       "      <td>earthquake</td>\n",
       "      <td>M 3.3 - 5km NW of Cabazon, CA</td>\n",
       "      <td>POINT Z (-116.824501 33.9550018 15.52)</td>\n",
       "    </tr>\n",
       "    <tr>\n",
       "      <th>4</th>\n",
       "      <td>us70003v2z</td>\n",
       "      <td>4.50</td>\n",
       "      <td>78km NNE of Calama, Chile</td>\n",
       "      <td>1559618161671</td>\n",
       "      <td>1559619675040</td>\n",
       "      <td>-240</td>\n",
       "      <td>https://earthquake.usgs.gov/earthquakes/eventp...</td>\n",
       "      <td>https://earthquake.usgs.gov/earthquakes/feed/v...</td>\n",
       "      <td>NaN</td>\n",
       "      <td>NaN</td>\n",
       "      <td>...</td>\n",
       "      <td>,us,</td>\n",
       "      <td>,geoserve,origin,phase-data,</td>\n",
       "      <td>NaN</td>\n",
       "      <td>0.44500</td>\n",
       "      <td>0.91</td>\n",
       "      <td>44.0</td>\n",
       "      <td>mb</td>\n",
       "      <td>earthquake</td>\n",
       "      <td>M 4.5 - 78km NNE of Calama, Chile</td>\n",
       "      <td>POINT Z (-68.7628 -21.7797 117.56)</td>\n",
       "    </tr>\n",
       "  </tbody>\n",
       "</table>\n",
       "<p>5 rows × 28 columns</p>\n",
       "</div>"
      ],
      "text/plain": [
       "             id   mag                          place           time  \\\n",
       "0  ak01974f078a  3.00  10km NNW of Anchorage, Alaska  1559624088074   \n",
       "1    hv70981096  2.96   3km N of Kailua-Kona, Hawaii  1559623704160   \n",
       "2    us70003v3j  6.30      Izu Islands, Japan region  1559623157501   \n",
       "3    ci38621152  3.33          5km NW of Cabazon, CA  1559622842590   \n",
       "4    us70003v2z  4.50      78km NNE of Calama, Chile  1559618161671   \n",
       "\n",
       "         updated   tz                                                url  \\\n",
       "0  1559629426013 -540  https://earthquake.usgs.gov/earthquakes/eventp...   \n",
       "1  1559629478703 -600  https://earthquake.usgs.gov/earthquakes/eventp...   \n",
       "2  1559629615368  540  https://earthquake.usgs.gov/earthquakes/eventp...   \n",
       "3  1559629697341 -480  https://earthquake.usgs.gov/earthquakes/eventp...   \n",
       "4  1559619675040 -240  https://earthquake.usgs.gov/earthquakes/eventp...   \n",
       "\n",
       "                                              detail   felt  cdi  ...  \\\n",
       "0  https://earthquake.usgs.gov/earthquakes/feed/v...    1.0  2.0  ...   \n",
       "1  https://earthquake.usgs.gov/earthquakes/feed/v...    2.0  2.2  ...   \n",
       "2  https://earthquake.usgs.gov/earthquakes/feed/v...    2.0  3.1  ...   \n",
       "3  https://earthquake.usgs.gov/earthquakes/feed/v...  310.0  3.4  ...   \n",
       "4  https://earthquake.usgs.gov/earthquakes/feed/v...    NaN  NaN  ...   \n",
       "\n",
       "   sources                                              types   nst     dmin  \\\n",
       "0     ,ak,                    ,dyfi,geoserve,origin,shakemap,   NaN      NaN   \n",
       "1     ,hv,                  ,dyfi,geoserve,origin,phase-data,  57.0  0.15130   \n",
       "2     ,us,  ,dyfi,geoserve,losspager,origin,phase-data,sha...   NaN  3.21900   \n",
       "3     ,ci,  ,dyfi,focal-mechanism,geoserve,nearby-cities,o...  92.0  0.05312   \n",
       "4     ,us,                       ,geoserve,origin,phase-data,   NaN  0.44500   \n",
       "\n",
       "    rms    gap magType        type                                  title  \\\n",
       "0  1.51    NaN      ml  earthquake  M 3.0 - 10km NNW of Anchorage, Alaska   \n",
       "1  0.36  256.0      ml  earthquake   M 3.0 - 3km N of Kailua-Kona, Hawaii   \n",
       "2  0.80   21.0     mww  earthquake      M 6.3 - Izu Islands, Japan region   \n",
       "3  0.18   33.0      ml  earthquake          M 3.3 - 5km NW of Cabazon, CA   \n",
       "4  0.91   44.0      mb  earthquake      M 4.5 - 78km NNE of Calama, Chile   \n",
       "\n",
       "                                  geometry  \n",
       "0         POINT Z (-149.9612 61.3074 40.8)  \n",
       "1  POINT Z (-155.9954987 19.6700001 108.7)  \n",
       "2         POINT Z (139.2932 29.0623 430.3)  \n",
       "3   POINT Z (-116.824501 33.9550018 15.52)  \n",
       "4       POINT Z (-68.7628 -21.7797 117.56)  \n",
       "\n",
       "[5 rows x 28 columns]"
      ]
     },
     "execution_count": 2,
     "metadata": {},
     "output_type": "execute_result"
    }
   ],
   "source": [
    "import geopandas as gpd\n",
    "\n",
    "eq_gdf = gpd.read_file(\"earthquakes.geojson\")\n",
    "eq_gdf.head()"
   ]
  },
  {
   "cell_type": "markdown",
   "metadata": {},
   "source": [
    "Now we use GeoPandas to load the dataset"
   ]
  },
  {
   "cell_type": "markdown",
   "metadata": {},
   "source": [
    "Let's simplify the output and only take most important rows"
   ]
  },
  {
   "cell_type": "code",
   "execution_count": 3,
   "metadata": {},
   "outputs": [
    {
     "data": {
      "text/html": [
       "<div>\n",
       "<style scoped>\n",
       "    .dataframe tbody tr th:only-of-type {\n",
       "        vertical-align: middle;\n",
       "    }\n",
       "\n",
       "    .dataframe tbody tr th {\n",
       "        vertical-align: top;\n",
       "    }\n",
       "\n",
       "    .dataframe thead th {\n",
       "        text-align: right;\n",
       "    }\n",
       "</style>\n",
       "<table border=\"1\" class=\"dataframe\">\n",
       "  <thead>\n",
       "    <tr style=\"text-align: right;\">\n",
       "      <th></th>\n",
       "      <th>time</th>\n",
       "      <th>mag</th>\n",
       "      <th>place</th>\n",
       "      <th>geometry</th>\n",
       "    </tr>\n",
       "  </thead>\n",
       "  <tbody>\n",
       "    <tr>\n",
       "      <th>0</th>\n",
       "      <td>1559624088074</td>\n",
       "      <td>3.00</td>\n",
       "      <td>10km NNW of Anchorage, Alaska</td>\n",
       "      <td>POINT Z (-149.9612 61.3074 40.8)</td>\n",
       "    </tr>\n",
       "    <tr>\n",
       "      <th>1</th>\n",
       "      <td>1559623704160</td>\n",
       "      <td>2.96</td>\n",
       "      <td>3km N of Kailua-Kona, Hawaii</td>\n",
       "      <td>POINT Z (-155.9954987 19.6700001 108.7)</td>\n",
       "    </tr>\n",
       "    <tr>\n",
       "      <th>2</th>\n",
       "      <td>1559623157501</td>\n",
       "      <td>6.30</td>\n",
       "      <td>Izu Islands, Japan region</td>\n",
       "      <td>POINT Z (139.2932 29.0623 430.3)</td>\n",
       "    </tr>\n",
       "    <tr>\n",
       "      <th>3</th>\n",
       "      <td>1559622842590</td>\n",
       "      <td>3.33</td>\n",
       "      <td>5km NW of Cabazon, CA</td>\n",
       "      <td>POINT Z (-116.824501 33.9550018 15.52)</td>\n",
       "    </tr>\n",
       "    <tr>\n",
       "      <th>4</th>\n",
       "      <td>1559618161671</td>\n",
       "      <td>4.50</td>\n",
       "      <td>78km NNE of Calama, Chile</td>\n",
       "      <td>POINT Z (-68.7628 -21.7797 117.56)</td>\n",
       "    </tr>\n",
       "  </tbody>\n",
       "</table>\n",
       "</div>"
      ],
      "text/plain": [
       "            time   mag                          place  \\\n",
       "0  1559624088074  3.00  10km NNW of Anchorage, Alaska   \n",
       "1  1559623704160  2.96   3km N of Kailua-Kona, Hawaii   \n",
       "2  1559623157501  6.30      Izu Islands, Japan region   \n",
       "3  1559622842590  3.33          5km NW of Cabazon, CA   \n",
       "4  1559618161671  4.50      78km NNE of Calama, Chile   \n",
       "\n",
       "                                  geometry  \n",
       "0         POINT Z (-149.9612 61.3074 40.8)  \n",
       "1  POINT Z (-155.9954987 19.6700001 108.7)  \n",
       "2         POINT Z (139.2932 29.0623 430.3)  \n",
       "3   POINT Z (-116.824501 33.9550018 15.52)  \n",
       "4       POINT Z (-68.7628 -21.7797 117.56)  "
      ]
     },
     "execution_count": 3,
     "metadata": {},
     "output_type": "execute_result"
    }
   ],
   "source": [
    "eq = eq_gdf[[\"time\",\"mag\", \"place\",\"geometry\"]].copy()\n",
    "eq.head()"
   ]
  },
  {
   "cell_type": "markdown",
   "metadata": {},
   "source": [
    "Look at the histogramm:"
   ]
  },
  {
   "cell_type": "code",
   "execution_count": 5,
   "metadata": {},
   "outputs": [
    {
     "data": {
      "image/png": "[encoded data removed]",
      "text/plain": [
       "<Figure size 432x288 with 1 Axes>"
      ]
     },
     "metadata": {
      "needs_background": "light"
     },
     "output_type": "display_data"
    }
   ],
   "source": [
    "%matplotlib inline\n",
    "eq.mag.hist(bins=16);"
   ]
  },
  {
   "cell_type": "markdown",
   "metadata": {},
   "source": [
    "Timestamps in UTC are not really human readable...\n",
    "Let's convert them"
   ]
  },
  {
   "cell_type": "code",
   "execution_count": null,
   "metadata": {},
   "outputs": [],
   "source": [
    "from datetime import datetime, timezone\n",
    "\n",
    "data = []\n",
    "for row in range(0,len(eq)):\n",
    "    time = eq.iloc[row].time\n",
    "    t = str(datetime.fromtimestamp(time/1000.0, timezone.utc))\n",
    "    data.append(t)\n",
    "    \n",
    "eq[\"time_utc\"] = data\n",
    "eq.head()"
   ]
  },
  {
   "cell_type": "code",
   "execution_count": null,
   "metadata": {},
   "outputs": [],
   "source": [
    "eq = eq.drop(['time'], axis=1)"
   ]
  },
  {
   "cell_type": "code",
   "execution_count": null,
   "metadata": {},
   "outputs": [],
   "source": [
    "eq.plot();"
   ]
  },
  {
   "cell_type": "markdown",
   "metadata": {},
   "source": [
    "Open Natural Earth Dataset with all Polygons of all countries"
   ]
  },
  {
   "cell_type": "code",
   "execution_count": 6,
   "metadata": {},
   "outputs": [
    {
     "data": {
      "text/html": [
       "<div>\n",
       "<style scoped>\n",
       "    .dataframe tbody tr th:only-of-type {\n",
       "        vertical-align: middle;\n",
       "    }\n",
       "\n",
       "    .dataframe tbody tr th {\n",
       "        vertical-align: top;\n",
       "    }\n",
       "\n",
       "    .dataframe thead th {\n",
       "        text-align: right;\n",
       "    }\n",
       "</style>\n",
       "<table border=\"1\" class=\"dataframe\">\n",
       "  <thead>\n",
       "    <tr style=\"text-align: right;\">\n",
       "      <th></th>\n",
       "      <th>featurecla</th>\n",
       "      <th>scalerank</th>\n",
       "      <th>LABELRANK</th>\n",
       "      <th>SOVEREIGNT</th>\n",
       "      <th>SOV_A3</th>\n",
       "      <th>ADM0_DIF</th>\n",
       "      <th>LEVEL</th>\n",
       "      <th>TYPE</th>\n",
       "      <th>ADMIN</th>\n",
       "      <th>ADM0_A3</th>\n",
       "      <th>...</th>\n",
       "      <th>NAME_KO</th>\n",
       "      <th>NAME_NL</th>\n",
       "      <th>NAME_PL</th>\n",
       "      <th>NAME_PT</th>\n",
       "      <th>NAME_RU</th>\n",
       "      <th>NAME_SV</th>\n",
       "      <th>NAME_TR</th>\n",
       "      <th>NAME_VI</th>\n",
       "      <th>NAME_ZH</th>\n",
       "      <th>geometry</th>\n",
       "    </tr>\n",
       "  </thead>\n",
       "  <tbody>\n",
       "    <tr>\n",
       "      <th>0</th>\n",
       "      <td>Admin-0 country</td>\n",
       "      <td>5</td>\n",
       "      <td>2</td>\n",
       "      <td>Indonesia</td>\n",
       "      <td>IDN</td>\n",
       "      <td>0</td>\n",
       "      <td>2</td>\n",
       "      <td>Sovereign country</td>\n",
       "      <td>Indonesia</td>\n",
       "      <td>IDN</td>\n",
       "      <td>...</td>\n",
       "      <td>인도네시아</td>\n",
       "      <td>Indonesië</td>\n",
       "      <td>Indonezja</td>\n",
       "      <td>Indonésia</td>\n",
       "      <td>Индонезия</td>\n",
       "      <td>Indonesien</td>\n",
       "      <td>Endonezya</td>\n",
       "      <td>Indonesia</td>\n",
       "      <td>印度尼西亚</td>\n",
       "      <td>(POLYGON ((117.7036079039552 4.163414542001791...</td>\n",
       "    </tr>\n",
       "    <tr>\n",
       "      <th>1</th>\n",
       "      <td>Admin-0 country</td>\n",
       "      <td>5</td>\n",
       "      <td>3</td>\n",
       "      <td>Malaysia</td>\n",
       "      <td>MYS</td>\n",
       "      <td>0</td>\n",
       "      <td>2</td>\n",
       "      <td>Sovereign country</td>\n",
       "      <td>Malaysia</td>\n",
       "      <td>MYS</td>\n",
       "      <td>...</td>\n",
       "      <td>말레이시아</td>\n",
       "      <td>Maleisië</td>\n",
       "      <td>Malezja</td>\n",
       "      <td>Malásia</td>\n",
       "      <td>Малайзия</td>\n",
       "      <td>Malaysia</td>\n",
       "      <td>Malezya</td>\n",
       "      <td>Malaysia</td>\n",
       "      <td>马来西亚</td>\n",
       "      <td>(POLYGON ((117.7036079039552 4.163414542001791...</td>\n",
       "    </tr>\n",
       "    <tr>\n",
       "      <th>2</th>\n",
       "      <td>Admin-0 country</td>\n",
       "      <td>6</td>\n",
       "      <td>2</td>\n",
       "      <td>Chile</td>\n",
       "      <td>CHL</td>\n",
       "      <td>0</td>\n",
       "      <td>2</td>\n",
       "      <td>Sovereign country</td>\n",
       "      <td>Chile</td>\n",
       "      <td>CHL</td>\n",
       "      <td>...</td>\n",
       "      <td>칠레</td>\n",
       "      <td>Chili</td>\n",
       "      <td>Chile</td>\n",
       "      <td>Chile</td>\n",
       "      <td>Чили</td>\n",
       "      <td>Chile</td>\n",
       "      <td>Şili</td>\n",
       "      <td>Chile</td>\n",
       "      <td>智利</td>\n",
       "      <td>(POLYGON ((-69.51008875199994 -17.506588197999...</td>\n",
       "    </tr>\n",
       "    <tr>\n",
       "      <th>3</th>\n",
       "      <td>Admin-0 country</td>\n",
       "      <td>0</td>\n",
       "      <td>3</td>\n",
       "      <td>Bolivia</td>\n",
       "      <td>BOL</td>\n",
       "      <td>0</td>\n",
       "      <td>2</td>\n",
       "      <td>Sovereign country</td>\n",
       "      <td>Bolivia</td>\n",
       "      <td>BOL</td>\n",
       "      <td>...</td>\n",
       "      <td>볼리비아</td>\n",
       "      <td>Bolivia</td>\n",
       "      <td>Boliwia</td>\n",
       "      <td>Bolívia</td>\n",
       "      <td>Боливия</td>\n",
       "      <td>Bolivia</td>\n",
       "      <td>Bolivya</td>\n",
       "      <td>Bolivia</td>\n",
       "      <td>玻利維亞</td>\n",
       "      <td>POLYGON ((-69.51008875199994 -17.5065881979999...</td>\n",
       "    </tr>\n",
       "    <tr>\n",
       "      <th>4</th>\n",
       "      <td>Admin-0 country</td>\n",
       "      <td>0</td>\n",
       "      <td>2</td>\n",
       "      <td>Peru</td>\n",
       "      <td>PER</td>\n",
       "      <td>0</td>\n",
       "      <td>2</td>\n",
       "      <td>Sovereign country</td>\n",
       "      <td>Peru</td>\n",
       "      <td>PER</td>\n",
       "      <td>...</td>\n",
       "      <td>페루</td>\n",
       "      <td>Peru</td>\n",
       "      <td>Peru</td>\n",
       "      <td>Peru</td>\n",
       "      <td>Перу</td>\n",
       "      <td>Peru</td>\n",
       "      <td>Peru</td>\n",
       "      <td>Peru</td>\n",
       "      <td>秘鲁</td>\n",
       "      <td>(POLYGON ((-69.51008875199994 -17.506588197999...</td>\n",
       "    </tr>\n",
       "  </tbody>\n",
       "</table>\n",
       "<p>5 rows × 95 columns</p>\n",
       "</div>"
      ],
      "text/plain": [
       "        featurecla  scalerank  LABELRANK SOVEREIGNT SOV_A3  ADM0_DIF  LEVEL  \\\n",
       "0  Admin-0 country          5          2  Indonesia    IDN         0      2   \n",
       "1  Admin-0 country          5          3   Malaysia    MYS         0      2   \n",
       "2  Admin-0 country          6          2      Chile    CHL         0      2   \n",
       "3  Admin-0 country          0          3    Bolivia    BOL         0      2   \n",
       "4  Admin-0 country          0          2       Peru    PER         0      2   \n",
       "\n",
       "                TYPE      ADMIN ADM0_A3  ...  NAME_KO    NAME_NL    NAME_PL  \\\n",
       "0  Sovereign country  Indonesia     IDN  ...    인도네시아  Indonesië  Indonezja   \n",
       "1  Sovereign country   Malaysia     MYS  ...    말레이시아   Maleisië    Malezja   \n",
       "2  Sovereign country      Chile     CHL  ...       칠레      Chili      Chile   \n",
       "3  Sovereign country    Bolivia     BOL  ...     볼리비아    Bolivia    Boliwia   \n",
       "4  Sovereign country       Peru     PER  ...       페루       Peru       Peru   \n",
       "\n",
       "     NAME_PT    NAME_RU     NAME_SV    NAME_TR    NAME_VI NAME_ZH  \\\n",
       "0  Indonésia  Индонезия  Indonesien  Endonezya  Indonesia   印度尼西亚   \n",
       "1    Malásia   Малайзия    Malaysia    Malezya   Malaysia    马来西亚   \n",
       "2      Chile       Чили       Chile       Şili      Chile      智利   \n",
       "3    Bolívia    Боливия     Bolivia    Bolivya    Bolivia    玻利維亞   \n",
       "4       Peru       Перу        Peru       Peru       Peru      秘鲁   \n",
       "\n",
       "                                            geometry  \n",
       "0  (POLYGON ((117.7036079039552 4.163414542001791...  \n",
       "1  (POLYGON ((117.7036079039552 4.163414542001791...  \n",
       "2  (POLYGON ((-69.51008875199994 -17.506588197999...  \n",
       "3  POLYGON ((-69.51008875199994 -17.5065881979999...  \n",
       "4  (POLYGON ((-69.51008875199994 -17.506588197999...  \n",
       "\n",
       "[5 rows x 95 columns]"
      ]
     },
     "execution_count": 6,
     "metadata": {},
     "output_type": "execute_result"
    }
   ],
   "source": [
    "gdfAdmin0 = gpd.read_file(\"data/ne_10m_admin_0_countries/ne_10m_admin_0_countries.shp\", encoding=\"utf-8\")\n",
    "gdfAdmin0.head()"
   ]
  },
  {
   "cell_type": "code",
   "execution_count": 10,
   "metadata": {},
   "outputs": [
    {
     "data": {
      "image/png": "[encoded data removed]",
      "text/plain": [
       "<Figure size 1080x648 with 1 Axes>"
      ]
     },
     "metadata": {
      "needs_background": "light"
     },
     "output_type": "display_data"
    }
   ],
   "source": [
    "countries = gdfAdmin0.plot(figsize=(15,9), color=\"black\")\n"
   ]
  },
  {
   "cell_type": "code",
   "execution_count": null,
   "metadata": {},
   "outputs": [],
   "source": [
    "eq.sort_values([\"mag\"], ascending=False).head()"
   ]
  },
  {
   "cell_type": "markdown",
   "metadata": {},
   "source": [
    "Point Clouds"
   ]
  },
  {
   "cell_type": "code",
   "execution_count": 17,
   "metadata": {},
   "outputs": [
    {
     "name": "stdout",
     "output_type": "stream",
     "text": [
      "['Blue', 'Classification', 'Green', 'Intensity', 'Key_Point', 'Raw_Classification', 'Red', 'Synthetic', 'Withheld', 'X', 'Y', 'Z', '__class__', '__delattr__', '__dict__', '__dir__', '__doc__', '__enter__', '__eq__', '__exit__', '__format__', '__ge__', '__getattribute__', '__getitem__', '__gt__', '__hash__', '__init__', '__init_subclass__', '__iter__', '__le__', '__len__', '__lt__', '__module__', '__ne__', '__new__', '__reduce__', '__reduce_ex__', '__repr__', '__setattr__', '__sizeof__', '__str__', '__subclasshook__', '__weakref__', '_evlrs', '_header', '_mode', '_reader', '_vlrs', 'addProperty', 'assertWriteMode', 'blue', 'byte_offset_to_waveform_data', 'classification', 'classification_flags', 'close', 'define_new_dimension', 'doc', 'edge_flight_line', 'extra_bytes', 'filename', 'flag_byte', 'get_blue', 'get_byte_offset_to_waveform_data', 'get_classification', 'get_classification_flags', 'get_edge_flight_line', 'get_extra_bytes', 'get_flag_byte', 'get_gps_time', 'get_green', 'get_header', 'get_input_srs', 'get_intensity', 'get_key_point', 'get_nir', 'get_num_returns', 'get_output_srs', 'get_overlap', 'get_point_format', 'get_points', 'get_pt_src_id', 'get_raw_classification', 'get_reader', 'get_red', 'get_return_num', 'get_return_point_waveform_loc', 'get_scan_angle', 'get_scan_angle_rank', 'get_scan_dir_flag', 'get_scanner_channel', 'get_synthetic', 'get_user_data', 'get_wave_packet_desc_index', 'get_waveform_packet_size', 'get_withheld', 'get_writer', 'get_x', 'get_x_scaled', 'get_x_t', 'get_y', 'get_y_scaled', 'get_y_t', 'get_z', 'get_z_scaled', 'get_z_t', 'gps_time', 'green', 'header', 'in_srs', 'input_srs', 'intensity', 'key_point', 'nir', 'num_returns', 'open', 'out_srs', 'output_srs', 'overlap', 'point_format', 'points', 'pt_src_id', 'raw_classification', 'read', 'reader', 'red', 'reopen', 'return_num', 'return_point_waveform_loc', 'scan_angle', 'scan_angle_rank', 'scan_dir_flag', 'scanner_channel', 'set_blue', 'set_byte_offset_to_waveform_data', 'set_classification', 'set_classification_flags', 'set_edge_flight_line', 'set_extra_bytes', 'set_flag_byte', 'set_gps_time', 'set_green', 'set_header', 'set_input_srs', 'set_intensity', 'set_key_point', 'set_nir', 'set_num_returns', 'set_output_srs', 'set_overlap', 'set_points', 'set_pt_src_id', 'set_raw_classification', 'set_reader', 'set_red', 'set_return_num', 'set_return_point_waveform_loc', 'set_scan_angle', 'set_scan_angle_rank', 'set_scan_dir_flag', 'set_scanner_channel', 'set_srs', 'set_synthetic', 'set_user_data', 'set_wave_packet_desc_index', 'set_waveform_packet_size', 'set_withheld', 'set_writer', 'set_x', 'set_x_scaled', 'set_x_t', 'set_y', 'set_y_scaled', 'set_y_t', 'set_z', 'set_z_scaled', 'set_z_t', 'synthetic', 'user_data', 'visualize', 'wave_packet_desc_index', 'waveform_packet_size', 'withheld', 'write', 'writer', 'x', 'x_t', 'y', 'y_t', 'z', 'z_t']\n",
      "[[[2.68255585e+06 1.24793304e+06 4.16730000e+02]\n",
      "  [2.68255637e+06 1.24793765e+06 4.08920000e+02]\n",
      "  [2.68255674e+06 1.24793107e+06 4.16670000e+02]\n",
      "  ...\n",
      "  [2.68299993e+06 1.24750080e+06 4.10140000e+02]\n",
      "  [2.68299991e+06 1.24750023e+06 4.10140000e+02]\n",
      "  [2.68299381e+06 1.24750109e+06 4.61670000e+02]]]\n"
     ]
    }
   ],
   "source": [
    "from laspy.file import File\n",
    "import numpy as np\n",
    "\n",
    "file = File('data/points/26825_12475.las', mode='r')\n",
    "coords = np.dstack((file.x, file.y, file.z))\n",
    "file.close()\n",
    "print(coords)"
   ]
  },
  {
   "cell_type": "code",
   "execution_count": null,
   "metadata": {},
   "outputs": [],
   "source": []
  }
 ],
 "metadata": {
  "kernelspec": {
   "display_name": "PyConLt",
   "language": "python",
   "name": "pyconlt"
  },
  "language_info": {
   "codemirror_mode": {
    "name": "ipython",
    "version": 3
   },
   "file_extension": ".py",
   "mimetype": "text/x-python",
   "name": "python",
   "nbconvert_exporter": "python",
   "pygments_lexer": "ipython3",
   "version": "3.6.8"
  }
 },
 "nbformat": 4,
 "nbformat_minor": 2
}
